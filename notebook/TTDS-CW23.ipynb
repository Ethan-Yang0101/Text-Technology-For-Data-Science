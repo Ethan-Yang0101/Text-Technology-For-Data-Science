{
 "cells": [
  {
   "cell_type": "code",
   "execution_count": 1,
   "metadata": {},
   "outputs": [],
   "source": [
    "from scipy.sparse import dok_matrix\n",
    "from sklearn.svm import LinearSVC\n",
    "from sklearn.feature_extraction.text import TfidfVectorizer\n",
    "from sklearn.model_selection import train_test_split\n",
    "from sklearn.metrics import classification_report\n",
    "from collections import Counter\n",
    "from stemming.porter2 import stem\n",
    "import pandas as pd\n",
    "import numpy as np\n",
    "import csv\n",
    "import re"
   ]
  },
  {
   "cell_type": "code",
   "execution_count": 2,
   "metadata": {},
   "outputs": [],
   "source": [
    "def read_stop_words(file_name):\n",
    "    stop_words = []\n",
    "    with open(file_name, 'r', encoding='UTF-8-sig') as f:\n",
    "        for line in f:\n",
    "            line = line.replace('\\n', '')\n",
    "            stop_words.append(line)\n",
    "    return stop_words"
   ]
  },
  {
   "cell_type": "code",
   "execution_count": 3,
   "metadata": {},
   "outputs": [],
   "source": [
    "def expr_preprocess_text(text, stop_words, stop=False, stem=False):\n",
    "    tokens = re.compile(r'[a-zA-Z0-9]+', re.I).findall(text)\n",
    "    tokens = [token.lower() for token in tokens]\n",
    "    tokens = [token for token in tokens if token not in stop_words] if stop else tokens\n",
    "    tokens = [stem(token) for token in tokens] if stem else tokens\n",
    "    return tokens"
   ]
  },
  {
   "cell_type": "code",
   "execution_count": 4,
   "metadata": {},
   "outputs": [],
   "source": [
    "def make_dataset(file_name, data_type, stop_words, stop=False, stem=False):\n",
    "    file = pd.read_csv(file_name, sep='\\t', header=None)\n",
    "    data, label = [], []\n",
    "    for index in range(len(file)):\n",
    "        corpora_name = file.iloc[index][0]\n",
    "        text = file.iloc[index][1]\n",
    "        tokens = expr_preprocess_text(text, stop_words, stop=stop, stem=stem)\n",
    "        data.append(tokens)\n",
    "        label.append(corpora_name)\n",
    "    if data_type == 'train':\n",
    "        all_tokens = [token for line in data for token in line]\n",
    "        unqiue_tokens = list(set(all_tokens))\n",
    "        token_dict = {k: v for v, k in enumerate(unqiue_tokens)}\n",
    "        label_dict = {'Quran': 0, 'OT': 1, 'NT': 2}\n",
    "        return data, label, token_dict, label_dict\n",
    "    return data, label"
   ]
  },
  {
   "cell_type": "code",
   "execution_count": 5,
   "metadata": {},
   "outputs": [],
   "source": [
    "def encode_data_label_bow(data, label, token_dict, label_dict):\n",
    "    encoded_data = dok_matrix((len(data), len(token_dict)))\n",
    "    for doc_index, line in enumerate(data):\n",
    "        line = [token_dict.get(token, -1) for token in line]\n",
    "        for token_idx, freq in Counter(line).items():\n",
    "            if token_idx != -1:\n",
    "                encoded_data[doc_index, token_idx] = freq\n",
    "    encoded_label = [label_dict[lab] for lab in label]\n",
    "    return encoded_data, encoded_label"
   ]
  },
  {
   "cell_type": "code",
   "execution_count": 6,
   "metadata": {},
   "outputs": [],
   "source": [
    "def encode_data_label_tfidf(vectorizer, data, label, label_dict):\n",
    "    data = [' '.join(row) for row in data]\n",
    "    encoded_data = vectorizer.transform(data)\n",
    "    encoded_label = [label_dict[lab] for lab in label]\n",
    "    return encoded_data, encoded_label"
   ]
  },
  {
   "cell_type": "code",
   "execution_count": 7,
   "metadata": {},
   "outputs": [],
   "source": [
    "def three_wrong_prediction_samples(X_dev_text, label_dict, y_dev, X_dev_pred):\n",
    "    wrong_quran_sample, quran_pred = None, None\n",
    "    wrong_ot_sample, ot_pred = None, None\n",
    "    wrong_nt_sample, nt_pred = None, None\n",
    "    label_dict = {v: k for k, v in label_dict.items()}\n",
    "    for index, (truth, pred) in enumerate(zip(y_dev, X_dev_pred)):\n",
    "        if quran_pred is None and truth != pred and truth == 0:\n",
    "            if len(X_dev_text[index]) <= 6:\n",
    "                wrong_quran_sample = X_dev_text[index]\n",
    "                quran_pred = label_dict[pred]\n",
    "        if ot_pred is None and truth != pred and truth == 1:\n",
    "            if len(X_dev_text[index]) <= 6:\n",
    "                wrong_ot_sample = X_dev_text[index]\n",
    "                ot_pred = label_dict[pred]\n",
    "        if nt_pred is None and truth != pred and truth == 2:\n",
    "            if len(X_dev_text[index]) <= 6:\n",
    "                wrong_nt_sample = X_dev_text[index]\n",
    "                nt_pred = label_dict[pred]\n",
    "        if quran_pred and ot_pred and nt_pred:\n",
    "            break\n",
    "    with open('wrong_samples.txt', 'w') as f:\n",
    "        f.write(f'wrong_sample: {wrong_quran_sample}, label: Quran, pred: {quran_pred}\\n')\n",
    "        f.write(f'wrong_sample: {wrong_ot_sample}, label: OT, pred: {ot_pred}\\n')\n",
    "        f.write(f'wrong_sample: {wrong_nt_sample}, label: NT, pred: {nt_pred}\\n')\n",
    "    return"
   ]
  },
  {
   "cell_type": "code",
   "execution_count": 8,
   "metadata": {},
   "outputs": [],
   "source": [
    "def prepare_train_val_test_dataset(stop=False, stem=False):\n",
    "    stop_words = read_stop_words('./englishST.txt')\n",
    "    data, label, token_dict, label_dict = make_dataset(\n",
    "        './train_and_dev.tsv', 'train', stop_words, stop=stop, stem=stem)\n",
    "    X_train_text, X_dev_text, y_train_text, y_dev_text = train_test_split(\n",
    "        data, label, test_size=0.2, stratify=label, random_state=42)\n",
    "    X_train, y_train = encode_data_label_bow(\n",
    "        X_train_text, y_train_text, token_dict, label_dict)\n",
    "    X_dev, y_dev = encode_data_label_bow(\n",
    "        X_dev_text, y_dev_text, token_dict, label_dict)\n",
    "    data, label = make_dataset(\n",
    "        './test.tsv', 'test', stop_words, stop=stop, stem=stem)\n",
    "    X_test, y_test = encode_data_label_bow(\n",
    "        data, label, token_dict, label_dict)\n",
    "    dataset = {'X_train': X_train, 'y_train': y_train,\n",
    "               'X_dev': X_dev, 'y_dev': y_dev,\n",
    "               'X_test': X_test, 'y_test': y_test,\n",
    "               'X_dev_text': X_dev_text,\n",
    "               'label_dict': label_dict}\n",
    "    return dataset"
   ]
  },
  {
   "cell_type": "code",
   "execution_count": 9,
   "metadata": {},
   "outputs": [],
   "source": [
    "def prepare_improved_train_val_test_dataset(stop=False, stem=False):\n",
    "    stop_words = read_stop_words('./englishST.txt')\n",
    "    data, label, token_dict, label_dict = make_dataset(\n",
    "        './train_and_dev.tsv', 'train', stop_words, stop=stop, stem=stem)\n",
    "    X_train_text, X_dev_text, y_train_text, y_dev_text = train_test_split(\n",
    "        data, label, test_size=0.2, stratify=label, random_state=42)\n",
    "    vectorizer = TfidfVectorizer()\n",
    "    vectorizer.fit([' '.join(row) for row in X_train_text])\n",
    "    X_train, y_train = encode_data_label_tfidf(\n",
    "        vectorizer, X_train_text, y_train_text, label_dict)\n",
    "    X_dev, y_dev = encode_data_label_tfidf(\n",
    "        vectorizer, X_dev_text, y_dev_text, label_dict)\n",
    "    data, label = make_dataset(\n",
    "        './test.tsv', 'test', stop_words, stop=stop, stem=stem)\n",
    "    X_test, y_test = encode_data_label_tfidf(\n",
    "        vectorizer, data, label, label_dict)\n",
    "    dataset = {'X_train': X_train, 'y_train': y_train,\n",
    "               'X_dev': X_dev, 'y_dev': y_dev,\n",
    "               'X_test': X_test, 'y_test': y_test,\n",
    "               'X_dev_text': X_dev_text,\n",
    "               'label_dict': label_dict}\n",
    "    return dataset"
   ]
  },
  {
   "cell_type": "code",
   "execution_count": 10,
   "metadata": {},
   "outputs": [],
   "source": [
    "def train_experiment_model(tfidf=False, stop=False, stem=False, param=False):\n",
    "    if tfidf is True:\n",
    "        dataset = prepare_improved_train_val_test_dataset(stop=stop, stem=stem)\n",
    "    if tfidf is False:\n",
    "        dataset = prepare_train_val_test_dataset(stop=stop, stem=stem)\n",
    "    C = 1.0 if param else 1000\n",
    "    model = LinearSVC(C=C, random_state=42)\n",
    "    model.fit(dataset['X_train'], dataset['y_train'])\n",
    "    X_train_pred = model.predict(dataset['X_train'])\n",
    "    X_dev_pred = model.predict(dataset['X_dev'])\n",
    "    X_test_pred = model.predict(dataset['X_test'])\n",
    "    three_wrong_prediction_samples(dataset['X_dev_text'], dataset['label_dict'], \n",
    "                                   dataset['y_dev'], X_dev_pred)\n",
    "    target_names = list(dataset['label_dict'].keys())\n",
    "    train_report = classification_report(\n",
    "        dataset['y_train'], X_train_pred, target_names=target_names, output_dict=True)\n",
    "    val_report = classification_report(\n",
    "        dataset['y_dev'], X_dev_pred, target_names=target_names, output_dict=True)\n",
    "    test_report = classification_report(\n",
    "        dataset['y_test'], X_test_pred, target_names=target_names, output_dict=True)\n",
    "    return train_report, val_report, test_report"
   ]
  },
  {
   "cell_type": "code",
   "execution_count": 11,
   "metadata": {},
   "outputs": [
    {
     "name": "stderr",
     "output_type": "stream",
     "text": [
      "/Users/yangzhenling/opt/anaconda3/lib/python3.7/site-packages/sklearn/svm/base.py:931: ConvergenceWarning: Liblinear failed to converge, increase the number of iterations.\n",
      "  \"the number of iterations.\", ConvergenceWarning)\n"
     ]
    }
   ],
   "source": [
    "params = {'tfidf': False, 'stop': False, 'stem': False, 'param': False}\n",
    "base_train_report, base_val_report, base_test_report = train_experiment_model(**params)"
   ]
  },
  {
   "cell_type": "code",
   "execution_count": 12,
   "metadata": {},
   "outputs": [],
   "source": [
    "params = {'tfidf': True, 'stop': False, 'stem': False, 'param': True}\n",
    "improv_train_report, improv_val_report, improv_test_report = train_experiment_model(**params)"
   ]
  },
  {
   "cell_type": "code",
   "execution_count": 13,
   "metadata": {},
   "outputs": [],
   "source": [
    "def read_metrics_from_report(report):\n",
    "    metrics = []\n",
    "    for key1 in ['Quran', 'OT', 'NT', 'macro avg']:\n",
    "        for key2 in ['precision', 'recall', 'f1-score']:\n",
    "            metric = report[key1][key2]\n",
    "            metrics.append('{:.3f}'.format(metric))\n",
    "    return metrics"
   ]
  },
  {
   "cell_type": "code",
   "execution_count": 14,
   "metadata": {},
   "outputs": [],
   "source": [
    "def write_classification_csv(base_train_report, base_val_report, base_test_report,\n",
    "    improv_train_report, improv_val_report, improv_test_report):\n",
    "    with open('classification.csv', 'w', encoding='utf-8', newline='') as f:\n",
    "        writer = csv.writer(f)\n",
    "        header = ['system', 'split', 'p-quran', 'r-quran', 'f-quran', \n",
    "                  'p-ot', 'r-ot', 'f-ot', 'p-nt', 'r-nt', 'f-nt', \n",
    "                  'p-macro', 'r-macro', 'f-macro']\n",
    "        writer.writerow(header)\n",
    "        line1 = ['baseline', 'train'] + read_metrics_from_report(base_train_report)\n",
    "        writer.writerow(line1)\n",
    "        line2 = ['baseline', 'dev'] + read_metrics_from_report(base_val_report)\n",
    "        writer.writerow(line2)\n",
    "        line3 = ['baseline', 'test'] + read_metrics_from_report(base_test_report)\n",
    "        writer.writerow(line3)\n",
    "        line4 = ['improved', 'train'] + read_metrics_from_report(improv_train_report)\n",
    "        writer.writerow(line4)\n",
    "        line5 = ['improved', 'dev'] + read_metrics_from_report(improv_val_report)\n",
    "        writer.writerow(line5)\n",
    "        line6 = ['improved', 'test'] + read_metrics_from_report(improv_test_report)\n",
    "        writer.writerow(line6)\n",
    "    return"
   ]
  },
  {
   "cell_type": "code",
   "execution_count": 15,
   "metadata": {},
   "outputs": [],
   "source": [
    "write_classification_csv(base_train_report, base_val_report, base_test_report,\n",
    "    improv_train_report, improv_val_report, improv_test_report)"
   ]
  }
 ],
 "metadata": {
  "kernelspec": {
   "display_name": "Python 3",
   "language": "python",
   "name": "python3"
  },
  "language_info": {
   "codemirror_mode": {
    "name": "ipython",
    "version": 3
   },
   "file_extension": ".py",
   "mimetype": "text/x-python",
   "name": "python",
   "nbconvert_exporter": "python",
   "pygments_lexer": "ipython3",
   "version": "3.7.9"
  }
 },
 "nbformat": 4,
 "nbformat_minor": 4
}
